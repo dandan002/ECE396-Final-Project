{
 "cells": [
  {
   "cell_type": "markdown",
   "metadata": {},
   "source": [
    "# Oblivious Amplitude Amplification\n",
    "\n",
    "Here, we implement the \"oblivious\" version of Grover's algorithm. We suppose $|a\\rangle$ and $|b\\rangle$ are two kets in a possibly large Hilbert space $\\mathcal{H}$. We are given access to the unitaries $e^{i\\phi}|a\\rangle\\langle a|$, $e^{i\\phi}|b\\rangle\\langle b|$ for arbitrary $\\phi$, as well as a fixed unitary $U$ for which all we know is that $\\langle a|U|b\\rangle \\neq 0$. The aim of the algorithm is to construct, using these resources, a unitary $Q$ such that $|\\langle a|Q|b\\rangle| \\approx 1$.\n",
    "\n",
    "For our purposes, we consider a system of six qubits where $|a\\rangle$ is a superposition of all strings with random nonzero weights, and $|b\\rangle$ is the particular string $|111111\\rangle$."
   ]
  },
  {
   "cell_type": "code",
   "execution_count": 1,
   "metadata": {},
   "outputs": [],
   "source": [
    "'''Some generic python and jupyter imports'''\n",
    "import numpy as np\n",
    "from numpy import pi,sqrt\n",
    "\n",
    "'''Qiskit imports'''\n",
    "from qiskit import(\n",
    "    QuantumCircuit\n",
    "    , execute\n",
    "    , Aer\n",
    "    , ClassicalRegister\n",
    "    , QuantumRegister\n",
    ")\n",
    "backend_svec = Aer.get_backend('statevector_simulator')\n",
    "backend_qasm = Aer.get_backend('qasm_simulator')\n",
    "\n",
    "'''Visualizations'''\n",
    "from qiskit.visualization import plot_histogram\n",
    "import matplotlib.pyplot as plt"
   ]
  },
  {
   "cell_type": "markdown",
   "metadata": {},
   "source": [
    "### 1. State Preparation\n",
    "First we begin by preparing our states. We are given that $|a\\rangle$ is a superposition of all strings with random nonzero weights, and $|b\\rangle$ is the particular string $|111111\\rangle$."
   ]
  },
  {
   "cell_type": "code",
   "execution_count": 17,
   "metadata": {},
   "outputs": [],
   "source": [
    "# define qubits\n",
    "num_qubits = 6\n",
    "qc = QuantumCircuit(num_qubits)\n",
    "\n",
    "# prep |a⟩: random superposition of all states\n",
    "random_weights = np.random.rand(2**num_qubits)\n",
    "random_weights /= np.linalg.norm(random_weights)  # normalize\n",
    "statevector = random_weights  # normalized weights to |a⟩\n",
    "qc.initialize(statevector, range(num_qubits))  # |a⟩\n",
    "\n",
    "# define |b⟩: |111111⟩ (already inherent in computational basis)\n",
    "target_state_b = '1' * num_qubits\n",
    "\n"
   ]
  },
  {
   "cell_type": "markdown",
   "metadata": {},
   "source": [
    "### 2. Define Reflection Operators\n",
    "We now define our reflection operators using $e^{i\\phi}|a\\rangle\\langle a|$ and $e^{i\\phi}|b\\rangle\\langle b|$, using $\\phi = \\pi$."
   ]
  },
  {
   "cell_type": "code",
   "execution_count": 18,
   "metadata": {},
   "outputs": [],
   "source": [
    "# Define Bφ for |b⟩ = |111111⟩\n",
    "qc_bphi = QuantumCircuit(num_qubits)\n",
    "qc_bphi.mcx(list(range(num_qubits - 1)), num_qubits - 1)  # Controlled-Z\n",
    "qc_bphi = qc_bphi.to_gate(label='Bφ')\n",
    "\n",
    "# Aφ reflection: Use `statevector` as |a⟩\n",
    "a_projector = np.outer(statevector, statevector.conj())\n",
    "a_reflection_matrix = 2 * a_projector - np.eye(2**num_qubits)\n",
    "\n",
    "qc_aphi = QuantumCircuit(num_qubits)\n",
    "qc_aphi.unitary(a_reflection_matrix, range(num_qubits), label='Aφ')\n",
    "qc_aphi = qc_aphi.to_gate(label='Aφ')"
   ]
  },
  {
   "cell_type": "markdown",
   "metadata": {},
   "source": [
    "### 3. Create Random Unitary\n",
    "We assume access to a fixed unitary which satisfies $\\langle a|U|b\\rangle \\neq 0$."
   ]
  },
  {
   "cell_type": "code",
   "execution_count": 19,
   "metadata": {},
   "outputs": [],
   "source": [
    "# Construct Q\n",
    "qc_q = QuantumCircuit(num_qubits)\n",
    "qc_q.append(qc_bphi, range(num_qubits))  # Apply Bφ\n",
    "qc_q.unitary(np.eye(2**num_qubits), range(num_qubits))  # U (Identity)\n",
    "qc_q.append(qc_aphi, range(num_qubits))  # Apply Aφ\n",
    "qc_q = qc_q.to_gate(label='Q')"
   ]
  },
  {
   "cell_type": "markdown",
   "metadata": {},
   "source": [
    "### 4. Putting it Together\n",
    "We use the unitaries and reflection operators to create a circuit for Q."
   ]
  },
  {
   "cell_type": "code",
   "execution_count": null,
   "metadata": {},
   "outputs": [],
   "source": [
    "# Calculate a = ⟨a|b⟩\n",
    "target_state_index = int(target_state_b, 2)  # Index of |b⟩ in the computational basis\n",
    "a = statevector[target_state_index]  # Overlap ⟨a|b⟩\n",
    "d = int(np.ceil(np.pi / (2 * np.arcsin(np.abs(a)))))\n",
    "\n",
    "# Apply Q d times\n",
    "qc_amplification = QuantumCircuit(num_qubits)\n",
    "for _ in range(d):\n",
    "    qc_amplification.append(qc_q, range(num_qubits))\n"
   ]
  },
  {
   "cell_type": "markdown",
   "metadata": {},
   "source": [
    "### 5. Testing the Operator\n",
    "To ensure this works, we apply this to b and check if a increases."
   ]
  },
  {
   "cell_type": "code",
   "execution_count": null,
   "metadata": {},
   "outputs": [
    {
     "name": "stdout",
     "output_type": "stream",
     "text": [
      "Overlap with a: 0.00\n"
     ]
    }
   ],
   "source": [
    "qc_final = QuantumCircuit(num_qubits)\n",
    "qc_final.compose(qc, inplace=True)  # Initialize |a⟩\n",
    "qc_final.compose(qc_amplification, inplace=True)  # Apply Q d times\n",
    "qc_final.measure_all()\n",
    "\n",
    "# Simulate\n",
    "backend = Aer.get_backend('qasm_simulator')\n",
    "result = execute(qc_final, backend, shots=1024).result()\n",
    "counts = result.get_counts()\n",
    "plot_histogram(counts)\n"
   ]
  }
 ],
 "metadata": {
  "kernelspec": {
   "display_name": "ece396_2024",
   "language": "python",
   "name": "python3"
  },
  "language_info": {
   "codemirror_mode": {
    "name": "ipython",
    "version": 3
   },
   "file_extension": ".py",
   "mimetype": "text/x-python",
   "name": "python",
   "nbconvert_exporter": "python",
   "pygments_lexer": "ipython3",
   "version": "3.11.5"
  }
 },
 "nbformat": 4,
 "nbformat_minor": 2
}
