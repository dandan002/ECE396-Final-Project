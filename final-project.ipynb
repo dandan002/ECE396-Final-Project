{
 "cells": [
  {
   "cell_type": "markdown",
   "metadata": {},
   "source": [
    "# Obvious Amplitude Amplification\n",
    "\n",
    "Here, we implement the \"oblivious\" version of Grover's algorithm. We suppose $|a\\rangle$ and $|b\\rangle$ are two kets in a possibly large Hilbert space $\\mathcal{H}$. We are given access to the unitaries $e^{i\\phi}|a\\rangle\\langle a|$, $e^{i\\phi}|b\\rangle\\langle b|$ for arbitrary $\\phi$, as well as a fixed unitary $U$ for which all we know is that $\\langle a|U|b\\rangle \\neq 0$. The aim of the algorithm is to construct, using these resources, a unitary $Q$ such that $|\\langle a|Q|b\\rangle| \\approx 1$.\n",
    "\n",
    "For our purposes, we consider a system of six qubits where $|a\\rangle$ is a superposition of all strings with random nonzero weights, and $|b\\rangle$ is the particular string $|111111\\rangle$."
   ]
  },
  {
   "cell_type": "code",
   "execution_count": null,
   "metadata": {
    "vscode": {
     "languageId": "plaintext"
    }
   },
   "outputs": [],
   "source": []
  }
 ],
 "metadata": {
  "language_info": {
   "name": "python"
  }
 },
 "nbformat": 4,
 "nbformat_minor": 2
}
