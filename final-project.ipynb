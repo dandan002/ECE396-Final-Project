{
 "cells": [
  {
   "cell_type": "markdown",
   "metadata": {},
   "source": [
    "# Oblivious Amplitude Amplification\n",
    "\n",
    "Here, we implement the \"oblivious\" version of Grover's algorithm. We suppose $|a\\rangle$ and $|b\\rangle$ are two kets in a possibly large Hilbert space $\\mathcal{H}$. We are given access to the unitaries $e^{i\\phi}|a\\rangle\\langle a|$, $e^{i\\phi}|b\\rangle\\langle b|$ for arbitrary $\\phi$, as well as a fixed unitary $U$ for which all we know is that $\\langle a|U|b\\rangle \\neq 0$. The aim of the algorithm is to construct, using these resources, a unitary $Q$ such that $|\\langle a|Q|b\\rangle| \\approx 1$.\n",
    "\n",
    "For our purposes, we consider a system of six qubits where $|a\\rangle$ is a superposition of all strings with random nonzero weights, and $|b\\rangle$ is the particular string $|111111\\rangle$."
   ]
  },
  {
   "cell_type": "code",
   "execution_count": 38,
   "metadata": {},
   "outputs": [],
   "source": [
    "'''Some generic python and jupyter imports'''\n",
    "import numpy as np\n",
    "from numpy import pi,sqrt\n",
    "\n",
    "'''Qiskit imports'''\n",
    "from qiskit import(\n",
    "    QuantumCircuit\n",
    "    , execute\n",
    "    , Aer\n",
    "    , ClassicalRegister\n",
    "    , QuantumRegister\n",
    ")\n",
    "backend_svec = Aer.get_backend('statevector_simulator')\n",
    "backend_qasm = Aer.get_backend('qasm_simulator')\n",
    "\n",
    "'''Visualizations'''\n",
    "from qiskit.visualization import plot_histogram\n",
    "import matplotlib.pyplot as plt"
   ]
  },
  {
   "cell_type": "markdown",
   "metadata": {},
   "source": [
    "### 1. State Preparation\n",
    "First we begin by preparing our states. We are given that $|a\\rangle$ is a superposition of all strings with random nonzero weights, and $|b\\rangle$ is the particular string $|111111\\rangle$."
   ]
  },
  {
   "cell_type": "code",
   "execution_count": 54,
   "metadata": {},
   "outputs": [],
   "source": [
    "# define qubits\n",
    "num_qubits = 6\n",
    "qc = QuantumCircuit(num_qubits)\n",
    "\n",
    "# |b> = |111111>\n",
    "qc.x(range(num_qubits)) # initialize b\n",
    "\n",
    "# |a>: superposition state with random weights\n",
    "random_weights = np.random.rand(2**num_qubits)\n",
    "random_weights /= np.linalg.norm(random_weights)\n",
    "state_vector_a = random_weights\n",
    "qc_a = qc.initialize(state_vector_a, range(num_qubits))\n"
   ]
  },
  {
   "cell_type": "markdown",
   "metadata": {},
   "source": [
    "### 2. Define Reflection Operators\n",
    "We now define our reflection operators using $e^{i\\phi}|a\\rangle\\langle a|$ and $e^{i\\phi}|b\\rangle\\langle b|$, using $\\phi = \\pi$.\n",
    "\n",
    "$R_a = I - 2 |a\\rangle\\langle a|$\n",
    "\n",
    "$R_b = I - 2 |b\\rangle\\langle b|$"
   ]
  },
  {
   "cell_type": "code",
   "execution_count": null,
   "metadata": {},
   "outputs": [],
   "source": [
    "phi = np.pi\n",
    "\n",
    "# R_a = I - 2|a><a|\n",
    "dim = len(state_vector_a)\n",
    "projector = np.outer(state_vector_a, state_vector_a.conj()) # |a><a|\n",
    "R_a = np.eye(dim) - 2*projector # R_a = I - 2|a><a|\n",
    "\n",
    "# R_b = I - 2|b><b|\n",
    "R_b_qc = QuantumCircuit(num_qubits)\n",
    "mcx = QuantumCircuit.MCXGate(num_qubits-1)\n",
    "R_b_qc.append(mcx, range(num_qubits))"
   ]
  },
  {
   "cell_type": "markdown",
   "metadata": {},
   "source": [
    "### 3. Define Reflection Operators"
   ]
  }
 ],
 "metadata": {
  "kernelspec": {
   "display_name": "ece396_2024",
   "language": "python",
   "name": "python3"
  },
  "language_info": {
   "codemirror_mode": {
    "name": "ipython",
    "version": 3
   },
   "file_extension": ".py",
   "mimetype": "text/x-python",
   "name": "python",
   "nbconvert_exporter": "python",
   "pygments_lexer": "ipython3",
   "version": "3.11.5"
  }
 },
 "nbformat": 4,
 "nbformat_minor": 2
}
