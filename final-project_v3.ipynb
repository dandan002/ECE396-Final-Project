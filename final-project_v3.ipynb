{
 "cells": [
  {
   "cell_type": "markdown",
   "metadata": {},
   "source": [
    "# Part 2: Oblivious Amplitude Amplification (in Qiskit!)\n",
    "\n",
    "Here, we implement the \"oblivious\" version of Grover's algorithm. We suppose $|a\\rangle$ and $|b\\rangle$ are two kets in a possibly large Hilbert space $\\mathcal{H}$. We are given access to the unitaries $e^{i\\phi}|a\\rangle\\langle a|$, $e^{i\\phi}|b\\rangle\\langle b|$ for arbitrary $\\phi$, as well as a fixed unitary $U$ for which all we know is that $\\langle a|U|b\\rangle \\neq 0$. The aim of the algorithm is to construct, using these resources, a unitary $Q$ such that $|\\langle a|Q|b\\rangle| \\approx 1$.\n",
    "\n",
    "For our purposes, we consider a system of six qubits where $|a\\rangle$ is a superposition of all strings with random nonzero weights, and $|b\\rangle$ is the particular string $|111111\\rangle$."
   ]
  },
  {
   "cell_type": "markdown",
   "metadata": {},
   "source": [
    "### 1. State Preparation\n",
    "First we begin by preparing our states. We are given that $|a\\rangle$ is a superposition of all strings with random nonzero weights, and $|b\\rangle$ is the particular string $|111111\\rangle$."
   ]
  },
  {
   "cell_type": "code",
   "execution_count": 12,
   "metadata": {},
   "outputs": [
    {
     "name": "stdout",
     "output_type": "stream",
     "text": [
      "Circuit for |b> (|111111>):\n",
      "     ┌───┐\n",
      "q_0: ┤ X ├\n",
      "     ├───┤\n",
      "q_1: ┤ X ├\n",
      "     ├───┤\n",
      "q_2: ┤ X ├\n",
      "     ├───┤\n",
      "q_3: ┤ X ├\n",
      "     ├───┤\n",
      "q_4: ┤ X ├\n",
      "     ├───┤\n",
      "q_5: ┤ X ├\n",
      "     └───┘\n",
      "\n",
      "Circuit for |a> (Random superposition):\n",
      "     »\n",
      "q_0: »\n",
      "     »\n",
      "q_1: »\n",
      "     »\n",
      "q_2: »\n",
      "     »\n",
      "q_3: »\n",
      "     »\n",
      "q_4: »\n",
      "     »\n",
      "q_5: »\n",
      "     »\n",
      "«     ┌───────────────────────────────────────────────────────────────────────────────────────────────────────────────────────────────────────────────────────────────────────────────────────────────────────────────────────────────────────────────────────────────────────────────────────────────────────────────────────────────────────────────────────────────────────────────────────────────────────────────────────────────────────────────────────────────────────────────────────────────────────────────────────────────────────────────────────────────────────────────────────────────────────────────────────────────────────────────────────────────────────────────────────────────────────────────────────────────────────────────────────────────────────────────────────────────────────────────────────────────────────────────────────────────────────────────────────────────────────────────────────────────────────────────────────────────────────────────────────────────────────────────────────────────────────────────────────────────────────────────────────────────────────────────────────────────────────────────────────────────────────────────────────────────────────────────────────────────┐\n",
      "«q_0: ┤0                                                                                                                                                                                                                                                                                                                                                                                                                                                                                                                                                                                                                                                                                                                                                                                                                                                                                                                                                                                                                                                                                                                                                                                                                              ├\n",
      "«     │                                                                                                                                                                                                                                                                                                                                                                                                                                                                                                                                                                                                                                                                                                                                                                                                                                                                                                                                                                                                                                                                                                                                                                                                                               │\n",
      "«q_1: ┤1                                                                                                                                                                                                                                                                                                                                                                                                                                                                                                                                                                                                                                                                                                                                                                                                                                                                                                                                                                                                                                                                                                                                                                                                                              ├\n",
      "«     │                                                                                                                                                                                                                                                                                                                                                                                                                                                                                                                                                                                                                                                                                                                                                                                                                                                                                                                                                                                                                                                                                                                                                                                                                               │\n",
      "«q_2: ┤2                                                                                                                                                                                                                                                                                                                                                                                                                                                                                                                                                                                                                                                                                                                                                                                                                                                                                                                                                                                                                                                                                                                                                                                                                              ├\n",
      "«     │  Initialize(0.040154+0.14209j,0.069147+0.094839j,0.095313+0.1142j,0.085791+0.028446j,0.069276+0.035733j,0.061928+0.064612j,0.1374+0.12159j,0.13322+0.081019j,0.10393+0.11324j,0.078117+0.05108j,0.11445+0.089669j,0.043462+0.063811j,0.12429+0.020631j,0.067783+0.083997j,0.07576+0.09064j,0.13307+0.028373j,0.074161+0.15025j,0.073445+0.075092j,0.15573+0.074742j,0.13182+0.085776j,0.034852+0.12093j,0.080252+0.11903j,0.045116+0.059885j,0.049177+0.045448j,0.079955+0.10467j,0.12444+0.092425j,0.11883+0.15268j,0.052062+0.012933j,0.1286+0.020887j,0.15349+0.036877j,0.017779+0.028378j,0.11682+0.078997j,0.058261+0.04535j,0.046885+0.085606j,0.041918+0.11684j,0.12721+0.042229j,0.067442+0.0769j,0.11141+0.056015j,0.088691+0.14093j,0.087254+0.097104j,0.12364+0.082108j,0.059179+0.0046444j,0.1482+0.096005j,0.11925+0.054581j,0.13204+0.065811j,0.10144+0.079463j,0.072734+0.12289j,0.058277+0.025335j,0.081744+0.055394j,0.083586+0.028746j,0.026193+0.11812j,0.051402+0.059439j,0.025894+0.064511j,0.013313+0.060548j,0.0097433+0.047587j,0.13023+0.034752j,0.15581+0.11181j,0.0050067+0.077858j,0.047739+0.12324j,0.13589+0.10051j,0.0030655+0.0010426j,0.12187+0.03229j,0.013344+0.073773j,0.081915+0.13128j) │\n",
      "«q_3: ┤3                                                                                                                                                                                                                                                                                                                                                                                                                                                                                                                                                                                                                                                                                                                                                                                                                                                                                                                                                                                                                                                                                                                                                                                                                              ├\n",
      "«     │                                                                                                                                                                                                                                                                                                                                                                                                                                                                                                                                                                                                                                                                                                                                                                                                                                                                                                                                                                                                                                                                                                                                                                                                                               │\n",
      "«q_4: ┤4                                                                                                                                                                                                                                                                                                                                                                                                                                                                                                                                                                                                                                                                                                                                                                                                                                                                                                                                                                                                                                                                                                                                                                                                                              ├\n",
      "«     │                                                                                                                                                                                                                                                                                                                                                                                                                                                                                                                                                                                                                                                                                                                                                                                                                                                                                                                                                                                                                                                                                                                                                                                                                               │\n",
      "«q_5: ┤5                                                                                                                                                                                                                                                                                                                                                                                                                                                                                                                                                                                                                                                                                                                                                                                                                                                                                                                                                                                                                                                                                                                                                                                                                              ├\n",
      "«     └───────────────────────────────────────────────────────────────────────────────────────────────────────────────────────────────────────────────────────────────────────────────────────────────────────────────────────────────────────────────────────────────────────────────────────────────────────────────────────────────────────────────────────────────────────────────────────────────────────────────────────────────────────────────────────────────────────────────────────────────────────────────────────────────────────────────────────────────────────────────────────────────────────────────────────────────────────────────────────────────────────────────────────────────────────────────────────────────────────────────────────────────────────────────────────────────────────────────────────────────────────────────────────────────────────────────────────────────────────────────────────────────────────────────────────────────────────────────────────────────────────────────────────────────────────────────────────────────────────────────────────────────────────────────────────────────────────────────────────────────────────────────────────────────────────────────────────────────┘\n"
     ]
    }
   ],
   "source": [
    "from qiskit import QuantumCircuit, Aer, execute\n",
    "import numpy as np\n",
    "\n",
    "# Number of qubits\n",
    "n_qubits = 6\n",
    "\n",
    "# Define target state |b> = |111111>\n",
    "qc_b = QuantumCircuit(n_qubits)\n",
    "for qubit in range(n_qubits):\n",
    "    qc_b.x(qubit)\n",
    "\n",
    "# Define superposition state |a>, generate random amplitudes\n",
    "random_amplitudes = np.random.random(2**n_qubits) + 1j * np.random.random(2**n_qubits)\n",
    "\n",
    "# Normalize amplitudes\n",
    "normalized_amplitudes = random_amplitudes / np.linalg.norm(random_amplitudes)\n",
    "\n",
    "# Initialize state |a> in Qiskit\n",
    "qc_a = QuantumCircuit(n_qubits)\n",
    "qc_a.initialize(normalized_amplitudes, range(n_qubits))\n",
    "\n",
    "# Display circuits\n",
    "print(\"Circuit for |b> (|111111>):\")\n",
    "print(qc_b)\n",
    "print(\"\\nCircuit for |a> (Random superposition):\")\n",
    "print(qc_a)"
   ]
  },
  {
   "cell_type": "markdown",
   "metadata": {},
   "source": [
    "### 2. Find Reflection Operators\n",
    "We define our phase/reflection operators as $A_\\phi = e^{i\\phi|A_0\\rangle\\langle A_0|}$, $B_\\phi = e^{i\\phi|B_0\\rangle\\langle B_0|}$."
   ]
  },
  {
   "cell_type": "code",
   "execution_count": 13,
   "metadata": {},
   "outputs": [
    {
     "name": "stdout",
     "output_type": "stream",
     "text": [
      "Circuit for A_phi:\n",
      "     ┌────────┐\n",
      "q_0: ┤0       ├\n",
      "     │        │\n",
      "q_1: ┤1       ├\n",
      "     │        │\n",
      "q_2: ┤2       ├\n",
      "     │  A_phi │\n",
      "q_3: ┤3       ├\n",
      "     │        │\n",
      "q_4: ┤4       ├\n",
      "     │        │\n",
      "q_5: ┤5       ├\n",
      "     └────────┘\n",
      "\n",
      "Circuit for B_phi:\n",
      "     ┌────────┐\n",
      "q_0: ┤0       ├\n",
      "     │        │\n",
      "q_1: ┤1       ├\n",
      "     │        │\n",
      "q_2: ┤2       ├\n",
      "     │  B_phi │\n",
      "q_3: ┤3       ├\n",
      "     │        │\n",
      "q_4: ┤4       ├\n",
      "     │        │\n",
      "q_5: ┤5       ├\n",
      "     └────────┘\n"
     ]
    }
   ],
   "source": [
    "from qiskit.quantum_info import Statevector, Operator\n",
    "from qiskit import QuantumCircuit\n",
    "\n",
    "# Define phase parameter\n",
    "phi = np.pi\n",
    "\n",
    "# |a> state vector\n",
    "a_state = Statevector(normalized_amplitudes)\n",
    "\n",
    "# |b> state vector\n",
    "b_state = Statevector.from_label('111111')\n",
    "\n",
    "# Projectors |a><a| and |b><b|\n",
    "proj_a = np.outer(a_state.data, np.conjugate(a_state.data))\n",
    "proj_b = np.outer(b_state.data, np.conjugate(b_state.data))\n",
    "\n",
    "# Reflection matrices\n",
    "A_phi = np.eye(2**n_qubits) + (np.exp(1j * phi) - 1) * proj_a\n",
    "B_phi = np.eye(2**n_qubits) + (np.exp(1j * phi) - 1) * proj_b\n",
    "\n",
    "# Convert to Qiskit operators\n",
    "A_phi_operator = Operator(A_phi)\n",
    "B_phi_operator = Operator(B_phi)\n",
    "\n",
    "# Build circuits to implement unitaries\n",
    "qc_a_phi = QuantumCircuit(n_qubits)\n",
    "qc_b_phi = QuantumCircuit(n_qubits)\n",
    "\n",
    "# Add unitary gates to circuits\n",
    "qc_a_phi.unitary(A_phi_operator, range(n_qubits), label='A_phi')\n",
    "qc_b_phi.unitary(B_phi_operator, range(n_qubits), label='B_phi')\n",
    "\n",
    "# Display circuits\n",
    "print(\"Circuit for A_phi:\")\n",
    "print(qc_a_phi)\n",
    "\n",
    "print(\"\\nCircuit for B_phi:\")\n",
    "print(qc_b_phi)"
   ]
  },
  {
   "cell_type": "markdown",
   "metadata": {},
   "source": [
    "### 3. Define U\n",
    "We now define $U$. Although any $U$ s.t. $\\langle a|U|b\\rangle \\neq 0$ can work, we implement $U = a(|A_0\\rangle\\langle B_0| - |A_\\perp\\rangle\\langle B_\\perp|)  + \\sqrt{1 - a^2}(|A_\\perp\\rangle\\langle B_0| + |A_0\\rangle\\langle B_\\perp|)$ to use an approximation $d$ for the number of iterations of $Q$ needed later on."
   ]
  },
  {
   "cell_type": "code",
   "execution_count": 14,
   "metadata": {},
   "outputs": [
    {
     "name": "stdout",
     "output_type": "stream",
     "text": [
      "Circuit for U:\n",
      "     ┌────┐\n",
      "q_0: ┤0   ├\n",
      "     │    │\n",
      "q_1: ┤1   ├\n",
      "     │    │\n",
      "q_2: ┤2   ├\n",
      "     │  U │\n",
      "q_3: ┤3   ├\n",
      "     │    │\n",
      "q_4: ┤4   ├\n",
      "     │    │\n",
      "q_5: ┤5   ├\n",
      "     └────┘\n"
     ]
    }
   ],
   "source": [
    "from qiskit.quantum_info import Operator\n",
    "import numpy as np\n",
    "\n",
    "# Nearest Unitary (I'm sorry, I couldn't get it exactly unitary bc of rounding)\n",
    "def nearest_unitary(matrix):\n",
    "    # Compute SVD\n",
    "    U, _, Vh = np.linalg.svd(matrix)\n",
    "    # Compute nearest unitary\n",
    "    unitary_matrix = np.dot(U, Vh)\n",
    "    return unitary_matrix\n",
    "\n",
    "# Define scalar a\n",
    "a = 0.6\n",
    "sqrt_1_minus_a2 = np.sqrt(1 - a**2)\n",
    "\n",
    "# |a> and |b> as state vectors\n",
    "a_state = Statevector(normalized_amplitudes)\n",
    "b_state = Statevector.from_label('111111')\n",
    "\n",
    "# |A0><A0| and |B0><B0|\n",
    "proj_a = np.outer(a_state.data, np.conjugate(a_state.data))\n",
    "proj_b = np.outer(b_state.data, np.conjugate(b_state.data))\n",
    "\n",
    "# |A_perp> and |B_perp>\n",
    "proj_a_perp = np.eye(2**n_qubits) - proj_a\n",
    "proj_b_perp = np.eye(2**n_qubits) - proj_b\n",
    "\n",
    "# Define U as a matrix\n",
    "U = (\n",
    "    a * (np.dot(proj_a, proj_b) - np.dot(proj_a_perp, proj_b_perp))\n",
    "    + sqrt_1_minus_a2 * (np.dot(proj_a_perp, proj_b) + np.dot(proj_a, proj_b_perp))\n",
    ")\n",
    "U = nearest_unitary(U) # This will introduce errors but it's the best we can do\n",
    "\n",
    "# Convert to Qiskit Operator\n",
    "U_operator = Operator(U)\n",
    "\n",
    "# Build circuit to implement U\n",
    "qc_U = QuantumCircuit(n_qubits)\n",
    "qc_U.unitary(U_operator, range(n_qubits), label='U')\n",
    "\n",
    "# Display the circuit\n",
    "print(\"Circuit for U:\")\n",
    "print(qc_U)"
   ]
  },
  {
   "cell_type": "markdown",
   "metadata": {},
   "source": [
    "### 4. Putting it Together\n",
    "We use the unitaries and reflection operators to create a circuit for $Q$."
   ]
  },
  {
   "cell_type": "code",
   "execution_count": 15,
   "metadata": {},
   "outputs": [
    {
     "name": "stdout",
     "output_type": "stream",
     "text": [
      "Number of iterations: 3\n"
     ]
    },
    {
     "data": {
      "image/png": "[encoded data removed]",
      "text/plain": [
       "<Figure size 700x500 with 1 Axes>"
      ]
     },
     "execution_count": 15,
     "metadata": {},
     "output_type": "execute_result"
    }
   ],
   "source": [
    "from qiskit.visualization import plot_histogram\n",
    "from qiskit import Aer, transpile, execute\n",
    "\n",
    "# Compute Q = B_phi * U * A_phi * U_dagger\n",
    "U_dagger = U.conj().T\n",
    "Q = np.dot(B_phi, np.dot(U, np.dot(A_phi, U_dagger)))\n",
    "\n",
    "# Convert Q to operator\n",
    "Q_operator = Operator(Q)\n",
    "\n",
    "# Build quantum circuit\n",
    "qc = QuantumCircuit(n_qubits)\n",
    "\n",
    "# Initialize state |a>\n",
    "qc.initialize(normalized_amplitudes, range(n_qubits))\n",
    "\n",
    "# Compute number of iterations\n",
    "d = (int) (np.pi / (2 * np.arcsin(a))) + 1 # Number of iterations\n",
    "print(f\"Number of iterations: {d}\")\n",
    "\n",
    "# Apply Q matrix d times (THIS IS THE UNITARY Q MATRIX WE WANT)\n",
    "for _ in range(d):\n",
    "    qc.unitary(Q_operator, range(n_qubits), label='Q')\n",
    "\n",
    "# Simulate circuit\n",
    "simulator = Aer.get_backend('statevector_simulator')\n",
    "result = execute(qc, simulator).result()\n",
    "statevector = result.get_statevector()\n",
    "\n",
    "# Measure for histogram\n",
    "qc.measure_all()\n",
    "simulator = Aer.get_backend('qasm_simulator')\n",
    "qc = transpile(qc, simulator)\n",
    "result = execute(qc, simulator, shots=1024).result()\n",
    "counts = result.get_counts()\n",
    "\n",
    "# Plot histogram\n",
    "plot_histogram(counts)\n"
   ]
  },
  {
   "cell_type": "markdown",
   "metadata": {},
   "source": [
    "# Part 3: Performance"
   ]
  },
  {
   "cell_type": "markdown",
   "metadata": {},
   "source": [
    "As seen above, we require roughly $d \\approx \\frac{\\pi}{2arcsin(a)} = \\frac{\\pi}{2arcsin(1/\\sqrt(N))} = O(\\sqrt{N})$ calls to our operator to get an accurate amplification of our desired state. (Technically, we put in d+1; rounding errors when computing $U$ required us to use SVD to approximate the closest unitary matrix, introducing a bit of error.) For example, when running with a = 0.6, $d \\approx 3$ (accounting for that error). The output when we set d = 2 is:\n",
    "\n",
    "![title](img/output.png)\n",
    "\n",
    "While the output when d = 3 is more like:\n",
    "\n",
    "![title](img/output1.png)\n",
    "\n",
    "This is because the algorithm works through signal rotation. Each application of the signal rotation operator above rotates through an angle $2arcsin(a)$, when the target state is as most $\\pi$ away. \n",
    "\n",
    "If thinking of raw gate count, the total number of gates required for high fidely is thus approximately $(d*\\text{\\# of gates per iteration})$. Given this is proportional to the number of qubits $n$, this would then lead to $O(n*d) = O(n\\sqrt{N})$ gates required.\n",
    "\n",
    "Equivelently, we can say that each iteration of the algorithm improves amplitude alignment by amplifying the initial overlap $|\\langle a|U|b\\rangle| = a$ wherein each iteration involves applying the unitary $U$ and the phase shifts $A_\\phi = e^{i\\phi|A_0\\rangle\\langle A_0|}$, $B_\\phi = e^{i\\phi|B_0\\rangle\\langle B_0|}$. The total number of iterations needed would then scale as $O(\\frac{1}{|\\langle a|U|b\\rangle|})$ (an equivelant statement) given that the process requires $O(\\sqrt{1/p})$ iterations to amplify a success probability $p = |\\langle a|U|b\\rangle|^2$.\n",
    "\n",
    "Our total gate count required here would thus scale by $O(\\frac{1}{|\\langle a|U|b\\rangle|} * \\text{gates per iteration}) = O(\\frac{1}{a}*n) = O(n\\sqrt{N})$. (Same thing.)"
   ]
  }
 ],
 "metadata": {
  "kernelspec": {
   "display_name": "ece396_2024",
   "language": "python",
   "name": "python3"
  },
  "language_info": {
   "codemirror_mode": {
    "name": "ipython",
    "version": 3
   },
   "file_extension": ".py",
   "mimetype": "text/x-python",
   "name": "python",
   "nbconvert_exporter": "python",
   "pygments_lexer": "ipython3",
   "version": "3.11.5"
  }
 },
 "nbformat": 4,
 "nbformat_minor": 2
}
