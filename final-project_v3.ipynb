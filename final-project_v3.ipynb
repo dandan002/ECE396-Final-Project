{
 "cells": [
  {
   "cell_type": "markdown",
   "metadata": {},
   "source": [
    "# Part 2: Oblivious Amplitude Amplification (in Qiskit!)\n",
    "\n",
    "Here, we implement the \"oblivious\" version of Grover's algorithm. We suppose $|a\\rangle$ and $|b\\rangle$ are two kets in a possibly large Hilbert space $\\mathcal{H}$. We are given access to the unitaries $e^{i\\phi}|a\\rangle\\langle a|$, $e^{i\\phi}|b\\rangle\\langle b|$ for arbitrary $\\phi$, as well as a fixed unitary $U$ for which all we know is that $\\langle a|U|b\\rangle \\neq 0$. The aim of the algorithm is to construct, using these resources, a unitary $Q$ such that $|\\langle a|Q|b\\rangle| \\approx 1$.\n",
    "\n",
    "For our purposes, we consider a system of six qubits where $|a\\rangle$ is a superposition of all strings with random nonzero weights, and $|b\\rangle$ is the particular string $|111111\\rangle$."
   ]
  },
  {
   "cell_type": "markdown",
   "metadata": {},
   "source": [
    "### 1. State Preparation\n",
    "First we begin by preparing our states. We are given that $|a\\rangle$ is a superposition of all strings with random nonzero weights, and $|b\\rangle$ is the particular string $|111111\\rangle$."
   ]
  },
  {
   "cell_type": "code",
   "execution_count": 1,
   "metadata": {},
   "outputs": [
    {
     "name": "stdout",
     "output_type": "stream",
     "text": [
      "Circuit for |b> (|111111>):\n",
      "     ┌───┐\n",
      "q_0: ┤ X ├\n",
      "     ├───┤\n",
      "q_1: ┤ X ├\n",
      "     ├───┤\n",
      "q_2: ┤ X ├\n",
      "     ├───┤\n",
      "q_3: ┤ X ├\n",
      "     ├───┤\n",
      "q_4: ┤ X ├\n",
      "     ├───┤\n",
      "q_5: ┤ X ├\n",
      "     └───┘\n",
      "\n",
      "Circuit for |a> (Random superposition):\n",
      "     »\n",
      "q_0: »\n",
      "     »\n",
      "q_1: »\n",
      "     »\n",
      "q_2: »\n",
      "     »\n",
      "q_3: »\n",
      "     »\n",
      "q_4: »\n",
      "     »\n",
      "q_5: »\n",
      "     »\n",
      "«     ┌─────────────────────────────────────────────────────────────────────────────────────────────────────────────────────────────────────────────────────────────────────────────────────────────────────────────────────────────────────────────────────────────────────────────────────────────────────────────────────────────────────────────────────────────────────────────────────────────────────────────────────────────────────────────────────────────────────────────────────────────────────────────────────────────────────────────────────────────────────────────────────────────────────────────────────────────────────────────────────────────────────────────────────────────────────────────────────────────────────────────────────────────────────────────────────────────────────────────────────────────────────────────────────────────────────────────────────────────────────────────────────────────────────────────────────────────────────────────────────────────────────────────────────────────────────────────────────────────────────────────────────────────────────────────────────────────────────────────────────────────────────────────────────────────────────────────────────────┐\n",
      "«q_0: ┤0                                                                                                                                                                                                                                                                                                                                                                                                                                                                                                                                                                                                                                                                                                                                                                                                                                                                                                                                                                                                                                                                                                                                                                                                                        ├\n",
      "«     │                                                                                                                                                                                                                                                                                                                                                                                                                                                                                                                                                                                                                                                                                                                                                                                                                                                                                                                                                                                                                                                                                                                                                                                                                         │\n",
      "«q_1: ┤1                                                                                                                                                                                                                                                                                                                                                                                                                                                                                                                                                                                                                                                                                                                                                                                                                                                                                                                                                                                                                                                                                                                                                                                                                        ├\n",
      "«     │                                                                                                                                                                                                                                                                                                                                                                                                                                                                                                                                                                                                                                                                                                                                                                                                                                                                                                                                                                                                                                                                                                                                                                                                                         │\n",
      "«q_2: ┤2                                                                                                                                                                                                                                                                                                                                                                                                                                                                                                                                                                                                                                                                                                                                                                                                                                                                                                                                                                                                                                                                                                                                                                                                                        ├\n",
      "«     │  Initialize(0.12011+0.04944j,0.05816+0.055561j,0.085115+0.097265j,0.14075+0.097957j,0.060451+0.072178j,0.070147+0.088319j,0.14825+0.1454j,0.097118+0.10563j,0.0053253+0.11417j,0.11924+0.076661j,0.094685+0.14723j,0.040381+0.042919j,0.11753+0.01038j,0.094274+0.070798j,0.12973+0.017833j,0.051502+0.047192j,0.041758+0.14164j,0.14756+0.10583j,0.14581+0.068293j,0.1216+0.094327j,0.026481+0.14417j,0.060946+0.12191j,0.09162+0.035258j,0.1126+0.0098592j,0.011419+0.021325j,0.07998+0.067466j,0.037701+0.045666j,0.14132+0.049605j,0.14111+0.10215j,0.10301+0.10284j,0.021276+0.11764j,0.10627+0.071035j,0.043481+0.051763j,0.11441+0.14111j,0.10899+0.094713j,0.13744+0.024756j,0.04015+0.055295j,0.010131+0.024447j,0.069799+0.011966j,0.059121+0.10785j,0.12469+0.085799j,0.086843+0.00062526j,0.070902+0.023242j,0.073396+0.005604j,0.01698+0.002262j,0.1141+0.014751j,0.12921+0.098624j,0.070629+0.0055786j,0.095258+0.048232j,0.084816+0.034519j,0.043923+0.028032j,0.0098742+0.050815j,0.13704+0.02397j,0.1298+0.025333j,0.15062+0.1009j,0.14168+0.1149j,0.11677+0.065176j,0.071925+0.042172j,0.079615+0.036684j,0.066377+0.072922j,0.10026+0.12489j,0.061286+0.091571j,0.11344+0.091712j,0.12997+0.073598j) │\n",
      "«q_3: ┤3                                                                                                                                                                                                                                                                                                                                                                                                                                                                                                                                                                                                                                                                                                                                                                                                                                                                                                                                                                                                                                                                                                                                                                                                                        ├\n",
      "«     │                                                                                                                                                                                                                                                                                                                                                                                                                                                                                                                                                                                                                                                                                                                                                                                                                                                                                                                                                                                                                                                                                                                                                                                                                         │\n",
      "«q_4: ┤4                                                                                                                                                                                                                                                                                                                                                                                                                                                                                                                                                                                                                                                                                                                                                                                                                                                                                                                                                                                                                                                                                                                                                                                                                        ├\n",
      "«     │                                                                                                                                                                                                                                                                                                                                                                                                                                                                                                                                                                                                                                                                                                                                                                                                                                                                                                                                                                                                                                                                                                                                                                                                                         │\n",
      "«q_5: ┤5                                                                                                                                                                                                                                                                                                                                                                                                                                                                                                                                                                                                                                                                                                                                                                                                                                                                                                                                                                                                                                                                                                                                                                                                                        ├\n",
      "«     └─────────────────────────────────────────────────────────────────────────────────────────────────────────────────────────────────────────────────────────────────────────────────────────────────────────────────────────────────────────────────────────────────────────────────────────────────────────────────────────────────────────────────────────────────────────────────────────────────────────────────────────────────────────────────────────────────────────────────────────────────────────────────────────────────────────────────────────────────────────────────────────────────────────────────────────────────────────────────────────────────────────────────────────────────────────────────────────────────────────────────────────────────────────────────────────────────────────────────────────────────────────────────────────────────────────────────────────────────────────────────────────────────────────────────────────────────────────────────────────────────────────────────────────────────────────────────────────────────────────────────────────────────────────────────────────────────────────────────────────────────────────────────────────────────────────────────────────┘\n"
     ]
    }
   ],
   "source": [
    "from qiskit import QuantumCircuit, Aer, execute\n",
    "import numpy as np\n",
    "\n",
    "# Number of qubits\n",
    "n_qubits = 6\n",
    "\n",
    "# Define target state |b> = |111111>\n",
    "qc_b = QuantumCircuit(n_qubits)\n",
    "for qubit in range(n_qubits):\n",
    "    qc_b.x(qubit)\n",
    "\n",
    "# Define superposition state |a>, generate random amplitudes\n",
    "random_amplitudes = np.random.random(2**n_qubits) + 1j * np.random.random(2**n_qubits)\n",
    "\n",
    "# Normalize amplitudes\n",
    "normalized_amplitudes = random_amplitudes / np.linalg.norm(random_amplitudes)\n",
    "\n",
    "# Initialize state |a> in Qiskit\n",
    "qc_a = QuantumCircuit(n_qubits)\n",
    "qc_a.initialize(normalized_amplitudes, range(n_qubits))\n",
    "\n",
    "# Display circuits\n",
    "print(\"Circuit for |b> (|111111>):\")\n",
    "print(qc_b)\n",
    "print(\"\\nCircuit for |a> (Random superposition):\")\n",
    "print(qc_a)"
   ]
  },
  {
   "cell_type": "markdown",
   "metadata": {},
   "source": [
    "### 2. Find Reflection Operators\n",
    "We define our phase/reflection operators as $A_\\phi = e^{i\\phi|A_0\\rangle\\langle A_0|}$, $B_\\phi = e^{i\\phi|B_0\\rangle\\langle B_0|}$."
   ]
  },
  {
   "cell_type": "code",
   "execution_count": 2,
   "metadata": {},
   "outputs": [
    {
     "name": "stdout",
     "output_type": "stream",
     "text": [
      "Circuit for A_phi:\n",
      "     ┌────────┐\n",
      "q_0: ┤0       ├\n",
      "     │        │\n",
      "q_1: ┤1       ├\n",
      "     │        │\n",
      "q_2: ┤2       ├\n",
      "     │  A_phi │\n",
      "q_3: ┤3       ├\n",
      "     │        │\n",
      "q_4: ┤4       ├\n",
      "     │        │\n",
      "q_5: ┤5       ├\n",
      "     └────────┘\n",
      "\n",
      "Circuit for B_phi:\n",
      "     ┌────────┐\n",
      "q_0: ┤0       ├\n",
      "     │        │\n",
      "q_1: ┤1       ├\n",
      "     │        │\n",
      "q_2: ┤2       ├\n",
      "     │  B_phi │\n",
      "q_3: ┤3       ├\n",
      "     │        │\n",
      "q_4: ┤4       ├\n",
      "     │        │\n",
      "q_5: ┤5       ├\n",
      "     └────────┘\n"
     ]
    }
   ],
   "source": [
    "from qiskit.quantum_info import Statevector, Operator\n",
    "from qiskit import QuantumCircuit\n",
    "\n",
    "# Define phase parameter\n",
    "phi = np.pi / 2  # Example phase\n",
    "\n",
    "# |a> state vector\n",
    "a_state = Statevector(normalized_amplitudes)\n",
    "\n",
    "# |b> state vector\n",
    "b_state = Statevector.from_label('111111')\n",
    "\n",
    "# Projectors |a><a| and |b><b|\n",
    "proj_a = np.outer(a_state.data, np.conjugate(a_state.data))\n",
    "proj_b = np.outer(b_state.data, np.conjugate(b_state.data))\n",
    "\n",
    "# Reflection matrices\n",
    "A_phi = np.eye(2**n_qubits) + (np.exp(1j * phi) - 1) * proj_a\n",
    "B_phi = np.eye(2**n_qubits) + (np.exp(1j * phi) - 1) * proj_b\n",
    "\n",
    "# Convert to Qiskit operators\n",
    "A_phi_operator = Operator(A_phi)\n",
    "B_phi_operator = Operator(B_phi)\n",
    "\n",
    "# Build circuits to implement unitaries\n",
    "qc_a_phi = QuantumCircuit(n_qubits)\n",
    "qc_b_phi = QuantumCircuit(n_qubits)\n",
    "\n",
    "# Add unitary gates to circuits\n",
    "qc_a_phi.unitary(A_phi_operator, range(n_qubits), label='A_phi')\n",
    "qc_b_phi.unitary(B_phi_operator, range(n_qubits), label='B_phi')\n",
    "\n",
    "# Display circuits\n",
    "print(\"Circuit for A_phi:\")\n",
    "print(qc_a_phi)\n",
    "\n",
    "print(\"\\nCircuit for B_phi:\")\n",
    "print(qc_b_phi)"
   ]
  },
  {
   "cell_type": "markdown",
   "metadata": {},
   "source": [
    "### 3. Define U\n",
    "We now define $U$. Although any $U$ s.t. $\\langle a|U|b\\rangle \\neq 0$ can work, we implement $U = a(|A_0\\rangle\\langle B_0| - |A_\\perp\\rangle\\langle B_\\perp|)  + \\sqrt{1 - a^2}(|A_\\perp\\rangle\\langle B_0| + |A_0\\rangle\\langle B_\\perp|)$ to use an approximation $d$ for the number of iterations of $Q$ needed later on."
   ]
  },
  {
   "cell_type": "code",
   "execution_count": 3,
   "metadata": {},
   "outputs": [
    {
     "name": "stdout",
     "output_type": "stream",
     "text": [
      "Circuit for U:\n",
      "     ┌────┐\n",
      "q_0: ┤0   ├\n",
      "     │    │\n",
      "q_1: ┤1   ├\n",
      "     │    │\n",
      "q_2: ┤2   ├\n",
      "     │  U │\n",
      "q_3: ┤3   ├\n",
      "     │    │\n",
      "q_4: ┤4   ├\n",
      "     │    │\n",
      "q_5: ┤5   ├\n",
      "     └────┘\n"
     ]
    }
   ],
   "source": [
    "from qiskit.quantum_info import Operator\n",
    "import numpy as np\n",
    "\n",
    "# Nearest Unitary (I'm sorry, I couldn't get it exactly unitary bc of rounding)\n",
    "def nearest_unitary(matrix):\n",
    "    # Compute SVD\n",
    "    U, _, Vh = np.linalg.svd(matrix)\n",
    "    # Compute nearest unitary\n",
    "    unitary_matrix = np.dot(U, Vh)\n",
    "    return unitary_matrix\n",
    "\n",
    "# Define scalar a\n",
    "a = 0.6\n",
    "sqrt_1_minus_a2 = np.sqrt(1 - a**2)\n",
    "\n",
    "# |a> and |b> as state vectors\n",
    "a_state = Statevector(normalized_amplitudes)\n",
    "b_state = Statevector.from_label('111111')\n",
    "\n",
    "# |A0><A0| and |B0><B0|\n",
    "proj_a = np.outer(a_state.data, np.conjugate(a_state.data))\n",
    "proj_b = np.outer(b_state.data, np.conjugate(b_state.data))\n",
    "\n",
    "# |A_perp> and |B_perp>\n",
    "proj_a_perp = np.eye(2**n_qubits) - proj_a\n",
    "proj_b_perp = np.eye(2**n_qubits) - proj_b\n",
    "\n",
    "# Define U as a matrix\n",
    "U = (\n",
    "    a * (np.dot(proj_a, proj_b) - np.dot(proj_a_perp, proj_b_perp))\n",
    "    + sqrt_1_minus_a2 * (np.dot(proj_a_perp, proj_b) + np.dot(proj_a, proj_b_perp))\n",
    ")\n",
    "U = nearest_unitary(U) # This will introduce errors but it's the best we can do\n",
    "\n",
    "# Convert to Qiskit Operator\n",
    "U_operator = Operator(U)\n",
    "\n",
    "# Build circuit to implement U\n",
    "qc_U = QuantumCircuit(n_qubits)\n",
    "qc_U.unitary(U_operator, range(n_qubits), label='U')\n",
    "\n",
    "# Display the circuit\n",
    "print(\"Circuit for U:\")\n",
    "print(qc_U)"
   ]
  },
  {
   "cell_type": "markdown",
   "metadata": {},
   "source": [
    "### 4. Putting it Together\n",
    "We use the unitaries and reflection operators to create a circuit for $Q$."
   ]
  },
  {
   "cell_type": "code",
   "execution_count": 4,
   "metadata": {},
   "outputs": [
    {
     "name": "stdout",
     "output_type": "stream",
     "text": [
      "Number of iterations: 3\n"
     ]
    },
    {
     "data": {
      "image/png": "[encoded data removed]",
      "text/plain": [
       "<Figure size 700x500 with 1 Axes>"
      ]
     },
     "execution_count": 4,
     "metadata": {},
     "output_type": "execute_result"
    }
   ],
   "source": [
    "from qiskit.visualization import plot_histogram\n",
    "from qiskit import Aer, transpile, execute\n",
    "\n",
    "# Compute Q = B_phi * U * A_phi * U_dagger\n",
    "U_dagger = U.conj().T\n",
    "Q = np.dot(B_phi, np.dot(U, np.dot(A_phi, U_dagger)))\n",
    "\n",
    "# Convert Q to operator\n",
    "Q_operator = Operator(Q)\n",
    "\n",
    "# Build quantum circuit\n",
    "qc = QuantumCircuit(n_qubits)\n",
    "\n",
    "# Initialize state |a>\n",
    "qc.initialize(normalized_amplitudes, range(n_qubits))\n",
    "\n",
    "# Compute number of iterations\n",
    "d = (int) (np.pi / (2 * np.arcsin(a))) + 1 # Number of iterations\n",
    "print(f\"Number of iterations: {d}\")\n",
    "\n",
    "# Apply Q matrix d times (THIS IS THE UNITARY Q MATRIX WE WANT)\n",
    "for _ in range(d):\n",
    "    qc.unitary(Q_operator, range(n_qubits), label='Q')\n",
    "\n",
    "# Simulate circuit\n",
    "simulator = Aer.get_backend('statevector_simulator')\n",
    "result = execute(qc, simulator).result()\n",
    "statevector = result.get_statevector()\n",
    "\n",
    "# Measure for histogram\n",
    "qc.measure_all()\n",
    "simulator = Aer.get_backend('qasm_simulator')\n",
    "qc = transpile(qc, simulator)\n",
    "result = execute(qc, simulator, shots=1024).result()\n",
    "counts = result.get_counts()\n",
    "\n",
    "# Plot histogram\n",
    "plot_histogram(counts)\n"
   ]
  },
  {
   "cell_type": "markdown",
   "metadata": {},
   "source": [
    "# Part 3: Performance"
   ]
  },
  {
   "cell_type": "markdown",
   "metadata": {},
   "source": [
    "As seen above, we require roughly $d \\approx \\frac{\\pi}{2arcsin(a)} = \\frac{\\pi}{2arcsin(1/\\sqrt(N))} = O(\\sqrt{N})$ calls to our operator to get an accurate amplification of our desired state. (Technically, we put in d+1; rounding errors when computing $U$ required us to use SVD to approximate the closest unitary matrix, introducing a bit of error.) For example, when running with a = 0.6, $d \\approx 3$ (accounting for that error). The output when we set d = 2 is:\n",
    "\n",
    "![title](img/output.png)\n",
    "\n",
    "While the output when d = 3 is more like:\n",
    "\n",
    "![title](img/output1.png)\n",
    "\n",
    "This is because the algorithm works through signal rotation. Each application of the signal rotation operator above rotates through an angle $2arcsin(a)$, when the target state is as most $\\pi$ away. \n",
    "\n",
    "If thinking of raw gate count, the total number of gates required for high fidely is thus approximately $(d*\\text{\\# of gates per iteration})$. Given this is proportional to the number of qubits $n$, this would then lead to $O(n*d) = O(n\\sqrt{N})$ gates required.\n",
    "\n",
    "Equivelently, we can say that each iteration of the algorithm improves amplitude alignment by amplifying the initial overlap $|\\langle a|U|b\\rangle| = a$ wherein each iteration involves applying the unitary $U$ and the phase shifts $A_\\phi = e^{i\\phi|A_0\\rangle\\langle A_0|}$, $B_\\phi = e^{i\\phi|B_0\\rangle\\langle B_0|}$. The total number of iterations needed would then scale as $O(\\frac{1}{|\\langle a|U|b\\rangle|})$ (an equivelant statement) given that the process requires $O(\\sqrt{1/p})$ iterations to amplify a success probability $p = |\\langle a|U|b\\rangle|^2$.\n",
    "\n",
    "Our total gate count required here would thus scale by $O(\\frac{1}{|\\langle a|U|b\\rangle|} * \\text{gates per iteration}) = O(\\frac{1}{a}*n) = O(n\\sqrt{N})$."
   ]
  }
 ],
 "metadata": {
  "kernelspec": {
   "display_name": "ece396_2024",
   "language": "python",
   "name": "python3"
  },
  "language_info": {
   "codemirror_mode": {
    "name": "ipython",
    "version": 3
   },
   "file_extension": ".py",
   "mimetype": "text/x-python",
   "name": "python",
   "nbconvert_exporter": "python",
   "pygments_lexer": "ipython3",
   "version": "3.11.5"
  }
 },
 "nbformat": 4,
 "nbformat_minor": 2
}
