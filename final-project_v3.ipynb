{
 "cells": [
  {
   "cell_type": "markdown",
   "metadata": {},
   "source": [
    "# Part 2: Oblivious Amplitude Amplification (in Qiskit!)\n",
    "\n",
    "Here, we implement the \"oblivious\" version of Grover's algorithm. We suppose $|a\\rangle$ and $|b\\rangle$ are two kets in a possibly large Hilbert space $\\mathcal{H}$. We are given access to the unitaries $e^{i\\phi}|a\\rangle\\langle a|$, $e^{i\\phi}|b\\rangle\\langle b|$ for arbitrary $\\phi$, as well as a fixed unitary $U$ for which all we know is that $\\langle a|U|b\\rangle \\neq 0$. The aim of the algorithm is to construct, using these resources, a unitary $Q$ such that $|\\langle a|Q|b\\rangle| \\approx 1$.\n",
    "\n",
    "For our purposes, we consider a system of six qubits where $|a\\rangle$ is a superposition of all strings with random nonzero weights, and $|b\\rangle$ is the particular string $|111111\\rangle$."
   ]
  },
  {
   "cell_type": "markdown",
   "metadata": {},
   "source": [
    "### 1. State Preparation\n",
    "First we begin by preparing our states. We are given that $|a\\rangle$ is a superposition of all strings with random nonzero weights, and $|b\\rangle$ is the particular string $|111111\\rangle$."
   ]
  },
  {
   "cell_type": "code",
   "execution_count": 10,
   "metadata": {},
   "outputs": [
    {
     "name": "stdout",
     "output_type": "stream",
     "text": [
      "Circuit for |b> (|111111>):\n",
      "     ┌───┐\n",
      "q_0: ┤ X ├\n",
      "     ├───┤\n",
      "q_1: ┤ X ├\n",
      "     ├───┤\n",
      "q_2: ┤ X ├\n",
      "     ├───┤\n",
      "q_3: ┤ X ├\n",
      "     ├───┤\n",
      "q_4: ┤ X ├\n",
      "     ├───┤\n",
      "q_5: ┤ X ├\n",
      "     └───┘\n",
      "\n",
      "Circuit for |a> (Random superposition):\n",
      "     »\n",
      "q_0: »\n",
      "     »\n",
      "q_1: »\n",
      "     »\n",
      "q_2: »\n",
      "     »\n",
      "q_3: »\n",
      "     »\n",
      "q_4: »\n",
      "     »\n",
      "q_5: »\n",
      "     »\n",
      "«     ┌──────────────────────────────────────────────────────────────────────────────────────────────────────────────────────────────────────────────────────────────────────────────────────────────────────────────────────────────────────────────────────────────────────────────────────────────────────────────────────────────────────────────────────────────────────────────────────────────────────────────────────────────────────────────────────────────────────────────────────────────────────────────────────────────────────────────────────────────────────────────────────────────────────────────────────────────────────────────────────────────────────────────────────────────────────────────────────────────────────────────────────────────────────────────────────────────────────────────────────────────────────────────────────────────────────────────────────────────────────────────────────────────────────────────────────────────────────────────────────────────────────────────────────────────────────────────────────────────────────────────────────────────────────────────────────────────────────────────────────────────────────────────────────────────────────────────────────────────────┐\n",
      "«q_0: ┤0                                                                                                                                                                                                                                                                                                                                                                                                                                                                                                                                                                                                                                                                                                                                                                                                                                                                                                                                                                                                                                                                                                                                                                                                                                 ├\n",
      "«     │                                                                                                                                                                                                                                                                                                                                                                                                                                                                                                                                                                                                                                                                                                                                                                                                                                                                                                                                                                                                                                                                                                                                                                                                                                  │\n",
      "«q_1: ┤1                                                                                                                                                                                                                                                                                                                                                                                                                                                                                                                                                                                                                                                                                                                                                                                                                                                                                                                                                                                                                                                                                                                                                                                                                                 ├\n",
      "«     │                                                                                                                                                                                                                                                                                                                                                                                                                                                                                                                                                                                                                                                                                                                                                                                                                                                                                                                                                                                                                                                                                                                                                                                                                                  │\n",
      "«q_2: ┤2                                                                                                                                                                                                                                                                                                                                                                                                                                                                                                                                                                                                                                                                                                                                                                                                                                                                                                                                                                                                                                                                                                                                                                                                                                 ├\n",
      "«     │  Initialize(0.058433+0.04383j,0.14832+0.084668j,0.1142+0.021986j,0.093399+0.12515j,0.024341+0.011631j,0.024337+0.15397j,0.0090618+0.12048j,0.13514+0.031002j,0.093782+0.00086153j,0.11047+0.12722j,0.0032115+0.11028j,0.15132+0.11374j,0.12987+0.12033j,0.033128+0.011552j,0.028367+0.055926j,0.028614+0.018077j,0.047466+0.13466j,0.081869+0.097243j,0.067389+0.051625j,0.045436+0.009916j,0.095457+0.048518j,0.021763+0.050733j,0.045579+0.11383j,0.057158+0.099468j,0.071153+0.13842j,0.1225+0.073672j,0.031152+0.018658j,0.080228+0.11128j,0.092425+0.11869j,0.0072469+0.087567j,0.094785+0.12028j,0.026604+0.077039j,0.010149+0.081554j,0.14804+0.066702j,0.15065+0.0039657j,0.12612+0.016833j,0.047524+0.0049034j,0.015238+0.099289j,0.10675+0.049044j,0.06867+0.079344j,0.01904+0.14159j,0.077254+0.038893j,0.0053651+0.064025j,0.14187+0.11788j,0.040373+0.035696j,0.10336+0.01201j,0.048631+0.045205j,0.081138+0.025153j,0.085294+0.14505j,0.02884+0.12608j,0.15127+0.09882j,0.12093+0.13596j,0.14657+0.12538j,0.13961+0.029108j,0.093281+0.13925j,0.14383+0.084145j,0.013806+0.12597j,0.030576+0.1398j,0.0070561+0.049613j,0.050756+0.01717j,0.060639+0.035561j,0.042334+0.066635j,0.12929+0.12762j,0.055658+0.13429j) │\n",
      "«q_3: ┤3                                                                                                                                                                                                                                                                                                                                                                                                                                                                                                                                                                                                                                                                                                                                                                                                                                                                                                                                                                                                                                                                                                                                                                                                                                 ├\n",
      "«     │                                                                                                                                                                                                                                                                                                                                                                                                                                                                                                                                                                                                                                                                                                                                                                                                                                                                                                                                                                                                                                                                                                                                                                                                                                  │\n",
      "«q_4: ┤4                                                                                                                                                                                                                                                                                                                                                                                                                                                                                                                                                                                                                                                                                                                                                                                                                                                                                                                                                                                                                                                                                                                                                                                                                                 ├\n",
      "«     │                                                                                                                                                                                                                                                                                                                                                                                                                                                                                                                                                                                                                                                                                                                                                                                                                                                                                                                                                                                                                                                                                                                                                                                                                                  │\n",
      "«q_5: ┤5                                                                                                                                                                                                                                                                                                                                                                                                                                                                                                                                                                                                                                                                                                                                                                                                                                                                                                                                                                                                                                                                                                                                                                                                                                 ├\n",
      "«     └──────────────────────────────────────────────────────────────────────────────────────────────────────────────────────────────────────────────────────────────────────────────────────────────────────────────────────────────────────────────────────────────────────────────────────────────────────────────────────────────────────────────────────────────────────────────────────────────────────────────────────────────────────────────────────────────────────────────────────────────────────────────────────────────────────────────────────────────────────────────────────────────────────────────────────────────────────────────────────────────────────────────────────────────────────────────────────────────────────────────────────────────────────────────────────────────────────────────────────────────────────────────────────────────────────────────────────────────────────────────────────────────────────────────────────────────────────────────────────────────────────────────────────────────────────────────────────────────────────────────────────────────────────────────────────────────────────────────────────────────────────────────────────────────────────────────────────────────────┘\n"
     ]
    }
   ],
   "source": [
    "from qiskit import QuantumCircuit, Aer, execute\n",
    "import numpy as np\n",
    "\n",
    "# Number of qubits\n",
    "n_qubits = 6\n",
    "\n",
    "# Define target state |b> = |111111>\n",
    "qc_b = QuantumCircuit(n_qubits)\n",
    "for qubit in range(n_qubits):\n",
    "    qc_b.x(qubit)\n",
    "\n",
    "# Define superposition state |a>, generate random amplitudes\n",
    "random_amplitudes = np.random.random(2**n_qubits) + 1j * np.random.random(2**n_qubits)\n",
    "\n",
    "# Normalize amplitudes\n",
    "normalized_amplitudes = random_amplitudes / np.linalg.norm(random_amplitudes)\n",
    "\n",
    "# Initialize state |a> in Qiskit\n",
    "qc_a = QuantumCircuit(n_qubits)\n",
    "qc_a.initialize(normalized_amplitudes, range(n_qubits))\n",
    "\n",
    "# Display circuits\n",
    "print(\"Circuit for |b> (|111111>):\")\n",
    "print(qc_b)\n",
    "print(\"\\nCircuit for |a> (Random superposition):\")\n",
    "print(qc_a)"
   ]
  },
  {
   "cell_type": "markdown",
   "metadata": {},
   "source": [
    "### 3. Find Reflection Operators\n",
    "We define our phase/reflection operators as $A_\\phi = e^{i\\phi|A_0\\rangle\\langle A_0|}$, $B_\\phi = e^{i\\phi|B_0\\rangle\\langle B_0|}$."
   ]
  },
  {
   "cell_type": "code",
   "execution_count": 11,
   "metadata": {},
   "outputs": [
    {
     "name": "stdout",
     "output_type": "stream",
     "text": [
      "Circuit for A_phi:\n",
      "     ┌────────┐\n",
      "q_0: ┤0       ├\n",
      "     │        │\n",
      "q_1: ┤1       ├\n",
      "     │        │\n",
      "q_2: ┤2       ├\n",
      "     │  A_phi │\n",
      "q_3: ┤3       ├\n",
      "     │        │\n",
      "q_4: ┤4       ├\n",
      "     │        │\n",
      "q_5: ┤5       ├\n",
      "     └────────┘\n",
      "\n",
      "Circuit for B_phi:\n",
      "     ┌────────┐\n",
      "q_0: ┤0       ├\n",
      "     │        │\n",
      "q_1: ┤1       ├\n",
      "     │        │\n",
      "q_2: ┤2       ├\n",
      "     │  B_phi │\n",
      "q_3: ┤3       ├\n",
      "     │        │\n",
      "q_4: ┤4       ├\n",
      "     │        │\n",
      "q_5: ┤5       ├\n",
      "     └────────┘\n"
     ]
    }
   ],
   "source": [
    "from qiskit.quantum_info import Statevector, Operator\n",
    "from qiskit import QuantumCircuit\n",
    "\n",
    "# Define phase parameter\n",
    "phi = np.pi / 2  # Example phase\n",
    "\n",
    "# |a> state vector\n",
    "a_state = Statevector(normalized_amplitudes)\n",
    "\n",
    "# |b> state vector\n",
    "b_state = Statevector.from_label('111111')\n",
    "\n",
    "# Projectors |a><a| and |b><b|\n",
    "proj_a = np.outer(a_state.data, np.conjugate(a_state.data))\n",
    "proj_b = np.outer(b_state.data, np.conjugate(b_state.data))\n",
    "\n",
    "# Reflection matrices\n",
    "A_phi = np.eye(2**n_qubits) + (np.exp(1j * phi) - 1) * proj_a\n",
    "B_phi = np.eye(2**n_qubits) + (np.exp(1j * phi) - 1) * proj_b\n",
    "\n",
    "# Convert to Qiskit operators\n",
    "A_phi_operator = Operator(A_phi)\n",
    "B_phi_operator = Operator(B_phi)\n",
    "\n",
    "# Build circuits to implement unitaries\n",
    "qc_a_phi = QuantumCircuit(n_qubits)\n",
    "qc_b_phi = QuantumCircuit(n_qubits)\n",
    "\n",
    "# Add unitary gates to circuits\n",
    "qc_a_phi.unitary(A_phi_operator, range(n_qubits), label='A_phi')\n",
    "qc_b_phi.unitary(B_phi_operator, range(n_qubits), label='B_phi')\n",
    "\n",
    "# Display circuits\n",
    "print(\"Circuit for A_phi:\")\n",
    "print(qc_a_phi)\n",
    "\n",
    "print(\"\\nCircuit for B_phi:\")\n",
    "print(qc_b_phi)"
   ]
  },
  {
   "cell_type": "markdown",
   "metadata": {},
   "source": [
    "### 2. Define U\n",
    "We now define $U$. Although any $U$ s.t. $\\langle a|U|b\\rangle \\neq 0$ can work, we implement $U = a(|A_0\\rangle\\langle B_0| - |A_\\perp\\rangle\\langle B_\\perp|)  + \\sqrt{1 - a^2}(|A_\\perp\\rangle\\langle B_0| + |A_0\\rangle\\langle B_\\perp|)$ to use an approximation $d$ for the number of iterations of $Q$ needed later on."
   ]
  },
  {
   "cell_type": "code",
   "execution_count": 12,
   "metadata": {},
   "outputs": [
    {
     "name": "stdout",
     "output_type": "stream",
     "text": [
      "Circuit for U:\n",
      "     ┌────┐\n",
      "q_0: ┤0   ├\n",
      "     │    │\n",
      "q_1: ┤1   ├\n",
      "     │    │\n",
      "q_2: ┤2   ├\n",
      "     │  U │\n",
      "q_3: ┤3   ├\n",
      "     │    │\n",
      "q_4: ┤4   ├\n",
      "     │    │\n",
      "q_5: ┤5   ├\n",
      "     └────┘\n"
     ]
    }
   ],
   "source": [
    "from qiskit.quantum_info import Operator\n",
    "import numpy as np\n",
    "\n",
    "# Nearest Unitary (I'm sorry, I couldn't get it exactly unitary bc of rounding)\n",
    "def nearest_unitary(matrix):\n",
    "    # Compute SVD\n",
    "    U, _, Vh = np.linalg.svd(matrix)\n",
    "    # Compute nearest unitary\n",
    "    unitary_matrix = np.dot(U, Vh)\n",
    "    return unitary_matrix\n",
    "\n",
    "# Define scalar a\n",
    "a = 0.6\n",
    "sqrt_1_minus_a2 = np.sqrt(1 - a**2)\n",
    "\n",
    "# |a> and |b> as state vectors\n",
    "a_state = Statevector(normalized_amplitudes)\n",
    "b_state = Statevector.from_label('111111')\n",
    "\n",
    "# |A0><A0| and |B0><B0|\n",
    "proj_a = np.outer(a_state.data, np.conjugate(a_state.data))\n",
    "proj_b = np.outer(b_state.data, np.conjugate(b_state.data))\n",
    "\n",
    "# |A_perp> and |B_perp>\n",
    "proj_a_perp = np.eye(2**n_qubits) - proj_a\n",
    "proj_b_perp = np.eye(2**n_qubits) - proj_b\n",
    "\n",
    "# Define U as a matrix\n",
    "U = (\n",
    "    a * (np.dot(proj_a, proj_b) - np.dot(proj_a_perp, proj_b_perp))\n",
    "    + sqrt_1_minus_a2 * (np.dot(proj_a_perp, proj_b) + np.dot(proj_a, proj_b_perp))\n",
    ")\n",
    "U = nearest_unitary(U) # This will introduce errors but it's the best we can do\n",
    "\n",
    "# Convert to Qiskit Operator\n",
    "U_operator = Operator(U)\n",
    "\n",
    "# Build circuit to implement U\n",
    "qc_U = QuantumCircuit(n_qubits)\n",
    "qc_U.unitary(U_operator, range(n_qubits), label='U')\n",
    "\n",
    "# Display the circuit\n",
    "print(\"Circuit for U:\")\n",
    "print(qc_U)"
   ]
  },
  {
   "cell_type": "markdown",
   "metadata": {},
   "source": [
    "### 4. Putting it Together\n",
    "We use the unitaries and reflection operators to create a circuit for $Q$."
   ]
  },
  {
   "cell_type": "code",
   "execution_count": 13,
   "metadata": {},
   "outputs": [
    {
     "name": "stdout",
     "output_type": "stream",
     "text": [
      "Number of iterations: 3\n"
     ]
    },
    {
     "data": {
      "image/png": "[encoded data removed]",
      "text/plain": [
       "<Figure size 700x500 with 1 Axes>"
      ]
     },
     "execution_count": 13,
     "metadata": {},
     "output_type": "execute_result"
    }
   ],
   "source": [
    "from qiskit.visualization import plot_histogram\n",
    "from qiskit import Aer, transpile, execute\n",
    "\n",
    "# Compute Q = B_phi * U * A_phi * U_dagger\n",
    "U_dagger = U.conj().T\n",
    "Q = np.dot(B_phi, np.dot(U, np.dot(A_phi, U_dagger)))\n",
    "\n",
    "# Convert Q to operator\n",
    "Q_operator = Operator(Q)\n",
    "\n",
    "# Build quantum circuit\n",
    "qc = QuantumCircuit(n_qubits)\n",
    "\n",
    "# Initialize state |a>\n",
    "qc.initialize(normalized_amplitudes, range(n_qubits))\n",
    "\n",
    "# Compute number of iterations\n",
    "d = (int) (np.pi / (2 * np.arcsin(a))) + 1 # Number of iterations\n",
    "print(f\"Number of iterations: {d}\")\n",
    "\n",
    "# Apply Q matrix\n",
    "for _ in range(d):\n",
    "    qc.unitary(Q_operator, range(n_qubits), label='Q')\n",
    "\n",
    "# Simulate circuit\n",
    "simulator = Aer.get_backend('statevector_simulator')\n",
    "result = execute(qc, simulator).result()\n",
    "statevector = result.get_statevector()\n",
    "\n",
    "# Measure for histogram\n",
    "qc.measure_all()\n",
    "simulator = Aer.get_backend('qasm_simulator')\n",
    "qc = transpile(qc, simulator)\n",
    "result = execute(qc, simulator, shots=1024).result()\n",
    "counts = result.get_counts()\n",
    "\n",
    "# Plot histogram\n",
    "plot_histogram(counts)\n"
   ]
  },
  {
   "cell_type": "markdown",
   "metadata": {},
   "source": [
    "# Part 3: Performance"
   ]
  },
  {
   "cell_type": "markdown",
   "metadata": {},
   "source": [
    "As seen above, "
   ]
  }
 ],
 "metadata": {
  "kernelspec": {
   "display_name": "ece396_2024",
   "language": "python",
   "name": "python3"
  },
  "language_info": {
   "codemirror_mode": {
    "name": "ipython",
    "version": 3
   },
   "file_extension": ".py",
   "mimetype": "text/x-python",
   "name": "python",
   "nbconvert_exporter": "python",
   "pygments_lexer": "ipython3",
   "version": "3.11.5"
  }
 },
 "nbformat": 4,
 "nbformat_minor": 2
}
